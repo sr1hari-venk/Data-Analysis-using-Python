{
 "cells": [
  {
   "cell_type": "markdown",
   "id": "f9f927a9",
   "metadata": {},
   "source": [
    "# Python Portfolio Project\n"
   ]
  },
  {
   "cell_type": "markdown",
   "id": "b9157bdd",
   "metadata": {},
   "source": [
    "## Part 1 - Solutions to Python portfolio tasks"
   ]
  },
  {
   "cell_type": "markdown",
   "id": "c7aad3d1",
   "metadata": {},
   "source": [
    "## Week 3. Data Processing"
   ]
  },
  {
   "cell_type": "markdown",
   "id": "9fd3c553",
   "metadata": {},
   "source": [
    "### Q1. Import dataset.csv. Devolop notebook cells to check the dataframe for 'data cleaning' issues (Missing values, unnecessary duplicates, wrong datatypes, wrong values) and resolve them. Provide mean, median, range for the column 'median house value'. Convert currency values in 'median_income' column to USD and visualize the entire updated dataframe."
   ]
  },
  {
   "cell_type": "markdown",
   "id": "3e7ceaa9",
   "metadata": {},
   "source": [
    "##### Python code as follows"
   ]
  },
  {
   "cell_type": "code",
   "execution_count": 1,
   "id": "fc476eb9",
   "metadata": {},
   "outputs": [],
   "source": [
    "#import libraries\n",
    "import numpy as np\n",
    "import pandas as pd"
   ]
  },
  {
   "cell_type": "code",
   "execution_count": 2,
   "id": "82db8466",
   "metadata": {},
   "outputs": [
    {
     "name": "stdout",
     "output_type": "stream",
     "text": [
      "    longitude  latitude  housing_median_age  total_rooms  population  median_income  median_house_value ocean_proximity\n",
      "0     -122.23     37.88             41.0000          880         322         8.3252              452600        NEAR BAY\n",
      "1     -122.23     37.88             41.0000          880         322         8.3252              452600        NEAR BAY\n",
      "2     -122.22     37.86             21.0000         7099        2401         8.3014              358500        NEAR BAY\n",
      "3     -122.25     37.84             52.0001         3104        1157         3.1200              241400        NEAR BAY\n",
      "4     -122.26     37.85             52.0000         3503        1504         3.2705              241800        NEAR BAY\n",
      "5     -121.65     39.32             40.0000          812         374         2.7891               73500          INLAND\n",
      "6     -121.69     39.36             29.0000         2220        1170         2.3224               56200          INLAND\n",
      "7     -121.70     39.37             32.0000         1852         911         1.7885               57000          INLAND\n",
      "8     -121.70     39.36             46.0000         1210         523         1.9100               63900          INLAND\n",
      "9     -121.70     39.36             37.0000         2330        1505         2.0474               56000          INLAND\n",
      "10    -121.69     39.36             34.0000          842         635         1.8355               63000          INLAND\n",
      "11    -121.74     39.38             27.0000         2596        1100         2.3243               85500             NaN\n",
      "12    -121.80     39.33             30.0000         1019         501         2.5259               81300          INLAND\n",
      "13    -120.46     38.15             16.0000         4221        1516         2.3816              116000          INLAND\n",
      "14    -120.55     38.12             10.0000         1566         785         2.5000              116100          INLAND\n",
      "15    -120.56     38.09             34.0000         2745        1150         2.3654               94900          INLAND\n",
      "16    -124.23     41.75             11.0000         3159        1343         2.4805               73200      NEAR OCEAN\n",
      "17    -124.21     41.77             17.0000         3461        1947         2.5795               68400          NEAR O\n",
      "18    -124.19     41.78             15.0000         3140        1645         1.6654               74600          NEAR O\n",
      "19    -124.16     41.74             15.0000         2715        1532         2.1829               69500      NEAR OCEAN\n",
      "20    -124.14     41.95             21.0000         2696        1208            NaN              122400      NEAR OCEAN\n",
      "21    -124.16     41.92             19.0000         1668         841         2.1336               75000      NEAR OCEAN\n",
      "22    -118.32     33.35             27.0000         1675         744         2.1579              450000          ISLAND\n",
      "23    -118.33     33.34             52.0000         2359        1100         2.8333              414700          ISLAND\n",
      "24    -118.32     33.33             52.0000         2127         733         3.3906              300000          ISLAND\n",
      "25    -118.32     33.34             52.0000          996         341         2.7361              450000          ISLAND\n",
      "26    -118.48     33.43             29.0000          716         422         2.6042              287500          ISLAND\n",
      "27    -118.48     33.43             29.0000          716         422         2.6042              287500          ISLAND\n"
     ]
    }
   ],
   "source": [
    "# Download the Dataset.csv file from Moodle\n",
    "# Load Dataset.csv file into a data frame\n",
    "MyDataFrame = pd.read_csv('Dataset.csv', delimiter=',') #Delimiter is set to , as it is csv\n",
    "# Print the entire data frame on the screen\n",
    "print(MyDataFrame.to_string())"
   ]
  },
  {
   "cell_type": "markdown",
   "id": "e3f30d5b",
   "metadata": {},
   "source": [
    "#### Finding and replacing missing values is a key part of data cleaning process. To find the missing values throughout the dataset, we run the isnull() fucntion. If it returns 'true' for any value, it means that particular value is missing. "
   ]
  },
  {
   "cell_type": "code",
   "execution_count": 3,
   "id": "4c71caab",
   "metadata": {},
   "outputs": [
    {
     "data": {
      "text/html": [
       "<div>\n",
       "<style scoped>\n",
       "    .dataframe tbody tr th:only-of-type {\n",
       "        vertical-align: middle;\n",
       "    }\n",
       "\n",
       "    .dataframe tbody tr th {\n",
       "        vertical-align: top;\n",
       "    }\n",
       "\n",
       "    .dataframe thead th {\n",
       "        text-align: right;\n",
       "    }\n",
       "</style>\n",
       "<table border=\"1\" class=\"dataframe\">\n",
       "  <thead>\n",
       "    <tr style=\"text-align: right;\">\n",
       "      <th></th>\n",
       "      <th>longitude</th>\n",
       "      <th>latitude</th>\n",
       "      <th>housing_median_age</th>\n",
       "      <th>total_rooms</th>\n",
       "      <th>population</th>\n",
       "      <th>median_income</th>\n",
       "      <th>median_house_value</th>\n",
       "      <th>ocean_proximity</th>\n",
       "    </tr>\n",
       "  </thead>\n",
       "  <tbody>\n",
       "    <tr>\n",
       "      <th>0</th>\n",
       "      <td>False</td>\n",
       "      <td>False</td>\n",
       "      <td>False</td>\n",
       "      <td>False</td>\n",
       "      <td>False</td>\n",
       "      <td>False</td>\n",
       "      <td>False</td>\n",
       "      <td>False</td>\n",
       "    </tr>\n",
       "    <tr>\n",
       "      <th>1</th>\n",
       "      <td>False</td>\n",
       "      <td>False</td>\n",
       "      <td>False</td>\n",
       "      <td>False</td>\n",
       "      <td>False</td>\n",
       "      <td>False</td>\n",
       "      <td>False</td>\n",
       "      <td>False</td>\n",
       "    </tr>\n",
       "    <tr>\n",
       "      <th>2</th>\n",
       "      <td>False</td>\n",
       "      <td>False</td>\n",
       "      <td>False</td>\n",
       "      <td>False</td>\n",
       "      <td>False</td>\n",
       "      <td>False</td>\n",
       "      <td>False</td>\n",
       "      <td>False</td>\n",
       "    </tr>\n",
       "    <tr>\n",
       "      <th>3</th>\n",
       "      <td>False</td>\n",
       "      <td>False</td>\n",
       "      <td>False</td>\n",
       "      <td>False</td>\n",
       "      <td>False</td>\n",
       "      <td>False</td>\n",
       "      <td>False</td>\n",
       "      <td>False</td>\n",
       "    </tr>\n",
       "    <tr>\n",
       "      <th>4</th>\n",
       "      <td>False</td>\n",
       "      <td>False</td>\n",
       "      <td>False</td>\n",
       "      <td>False</td>\n",
       "      <td>False</td>\n",
       "      <td>False</td>\n",
       "      <td>False</td>\n",
       "      <td>False</td>\n",
       "    </tr>\n",
       "    <tr>\n",
       "      <th>5</th>\n",
       "      <td>False</td>\n",
       "      <td>False</td>\n",
       "      <td>False</td>\n",
       "      <td>False</td>\n",
       "      <td>False</td>\n",
       "      <td>False</td>\n",
       "      <td>False</td>\n",
       "      <td>False</td>\n",
       "    </tr>\n",
       "    <tr>\n",
       "      <th>6</th>\n",
       "      <td>False</td>\n",
       "      <td>False</td>\n",
       "      <td>False</td>\n",
       "      <td>False</td>\n",
       "      <td>False</td>\n",
       "      <td>False</td>\n",
       "      <td>False</td>\n",
       "      <td>False</td>\n",
       "    </tr>\n",
       "    <tr>\n",
       "      <th>7</th>\n",
       "      <td>False</td>\n",
       "      <td>False</td>\n",
       "      <td>False</td>\n",
       "      <td>False</td>\n",
       "      <td>False</td>\n",
       "      <td>False</td>\n",
       "      <td>False</td>\n",
       "      <td>False</td>\n",
       "    </tr>\n",
       "    <tr>\n",
       "      <th>8</th>\n",
       "      <td>False</td>\n",
       "      <td>False</td>\n",
       "      <td>False</td>\n",
       "      <td>False</td>\n",
       "      <td>False</td>\n",
       "      <td>False</td>\n",
       "      <td>False</td>\n",
       "      <td>False</td>\n",
       "    </tr>\n",
       "    <tr>\n",
       "      <th>9</th>\n",
       "      <td>False</td>\n",
       "      <td>False</td>\n",
       "      <td>False</td>\n",
       "      <td>False</td>\n",
       "      <td>False</td>\n",
       "      <td>False</td>\n",
       "      <td>False</td>\n",
       "      <td>False</td>\n",
       "    </tr>\n",
       "    <tr>\n",
       "      <th>10</th>\n",
       "      <td>False</td>\n",
       "      <td>False</td>\n",
       "      <td>False</td>\n",
       "      <td>False</td>\n",
       "      <td>False</td>\n",
       "      <td>False</td>\n",
       "      <td>False</td>\n",
       "      <td>False</td>\n",
       "    </tr>\n",
       "    <tr>\n",
       "      <th>11</th>\n",
       "      <td>False</td>\n",
       "      <td>False</td>\n",
       "      <td>False</td>\n",
       "      <td>False</td>\n",
       "      <td>False</td>\n",
       "      <td>False</td>\n",
       "      <td>False</td>\n",
       "      <td>True</td>\n",
       "    </tr>\n",
       "    <tr>\n",
       "      <th>12</th>\n",
       "      <td>False</td>\n",
       "      <td>False</td>\n",
       "      <td>False</td>\n",
       "      <td>False</td>\n",
       "      <td>False</td>\n",
       "      <td>False</td>\n",
       "      <td>False</td>\n",
       "      <td>False</td>\n",
       "    </tr>\n",
       "    <tr>\n",
       "      <th>13</th>\n",
       "      <td>False</td>\n",
       "      <td>False</td>\n",
       "      <td>False</td>\n",
       "      <td>False</td>\n",
       "      <td>False</td>\n",
       "      <td>False</td>\n",
       "      <td>False</td>\n",
       "      <td>False</td>\n",
       "    </tr>\n",
       "    <tr>\n",
       "      <th>14</th>\n",
       "      <td>False</td>\n",
       "      <td>False</td>\n",
       "      <td>False</td>\n",
       "      <td>False</td>\n",
       "      <td>False</td>\n",
       "      <td>False</td>\n",
       "      <td>False</td>\n",
       "      <td>False</td>\n",
       "    </tr>\n",
       "    <tr>\n",
       "      <th>15</th>\n",
       "      <td>False</td>\n",
       "      <td>False</td>\n",
       "      <td>False</td>\n",
       "      <td>False</td>\n",
       "      <td>False</td>\n",
       "      <td>False</td>\n",
       "      <td>False</td>\n",
       "      <td>False</td>\n",
       "    </tr>\n",
       "    <tr>\n",
       "      <th>16</th>\n",
       "      <td>False</td>\n",
       "      <td>False</td>\n",
       "      <td>False</td>\n",
       "      <td>False</td>\n",
       "      <td>False</td>\n",
       "      <td>False</td>\n",
       "      <td>False</td>\n",
       "      <td>False</td>\n",
       "    </tr>\n",
       "    <tr>\n",
       "      <th>17</th>\n",
       "      <td>False</td>\n",
       "      <td>False</td>\n",
       "      <td>False</td>\n",
       "      <td>False</td>\n",
       "      <td>False</td>\n",
       "      <td>False</td>\n",
       "      <td>False</td>\n",
       "      <td>False</td>\n",
       "    </tr>\n",
       "    <tr>\n",
       "      <th>18</th>\n",
       "      <td>False</td>\n",
       "      <td>False</td>\n",
       "      <td>False</td>\n",
       "      <td>False</td>\n",
       "      <td>False</td>\n",
       "      <td>False</td>\n",
       "      <td>False</td>\n",
       "      <td>False</td>\n",
       "    </tr>\n",
       "    <tr>\n",
       "      <th>19</th>\n",
       "      <td>False</td>\n",
       "      <td>False</td>\n",
       "      <td>False</td>\n",
       "      <td>False</td>\n",
       "      <td>False</td>\n",
       "      <td>False</td>\n",
       "      <td>False</td>\n",
       "      <td>False</td>\n",
       "    </tr>\n",
       "    <tr>\n",
       "      <th>20</th>\n",
       "      <td>False</td>\n",
       "      <td>False</td>\n",
       "      <td>False</td>\n",
       "      <td>False</td>\n",
       "      <td>False</td>\n",
       "      <td>True</td>\n",
       "      <td>False</td>\n",
       "      <td>False</td>\n",
       "    </tr>\n",
       "    <tr>\n",
       "      <th>21</th>\n",
       "      <td>False</td>\n",
       "      <td>False</td>\n",
       "      <td>False</td>\n",
       "      <td>False</td>\n",
       "      <td>False</td>\n",
       "      <td>False</td>\n",
       "      <td>False</td>\n",
       "      <td>False</td>\n",
       "    </tr>\n",
       "    <tr>\n",
       "      <th>22</th>\n",
       "      <td>False</td>\n",
       "      <td>False</td>\n",
       "      <td>False</td>\n",
       "      <td>False</td>\n",
       "      <td>False</td>\n",
       "      <td>False</td>\n",
       "      <td>False</td>\n",
       "      <td>False</td>\n",
       "    </tr>\n",
       "    <tr>\n",
       "      <th>23</th>\n",
       "      <td>False</td>\n",
       "      <td>False</td>\n",
       "      <td>False</td>\n",
       "      <td>False</td>\n",
       "      <td>False</td>\n",
       "      <td>False</td>\n",
       "      <td>False</td>\n",
       "      <td>False</td>\n",
       "    </tr>\n",
       "    <tr>\n",
       "      <th>24</th>\n",
       "      <td>False</td>\n",
       "      <td>False</td>\n",
       "      <td>False</td>\n",
       "      <td>False</td>\n",
       "      <td>False</td>\n",
       "      <td>False</td>\n",
       "      <td>False</td>\n",
       "      <td>False</td>\n",
       "    </tr>\n",
       "    <tr>\n",
       "      <th>25</th>\n",
       "      <td>False</td>\n",
       "      <td>False</td>\n",
       "      <td>False</td>\n",
       "      <td>False</td>\n",
       "      <td>False</td>\n",
       "      <td>False</td>\n",
       "      <td>False</td>\n",
       "      <td>False</td>\n",
       "    </tr>\n",
       "    <tr>\n",
       "      <th>26</th>\n",
       "      <td>False</td>\n",
       "      <td>False</td>\n",
       "      <td>False</td>\n",
       "      <td>False</td>\n",
       "      <td>False</td>\n",
       "      <td>False</td>\n",
       "      <td>False</td>\n",
       "      <td>False</td>\n",
       "    </tr>\n",
       "    <tr>\n",
       "      <th>27</th>\n",
       "      <td>False</td>\n",
       "      <td>False</td>\n",
       "      <td>False</td>\n",
       "      <td>False</td>\n",
       "      <td>False</td>\n",
       "      <td>False</td>\n",
       "      <td>False</td>\n",
       "      <td>False</td>\n",
       "    </tr>\n",
       "  </tbody>\n",
       "</table>\n",
       "</div>"
      ],
      "text/plain": [
       "    longitude  latitude  housing_median_age  total_rooms  population  \\\n",
       "0       False     False               False        False       False   \n",
       "1       False     False               False        False       False   \n",
       "2       False     False               False        False       False   \n",
       "3       False     False               False        False       False   \n",
       "4       False     False               False        False       False   \n",
       "5       False     False               False        False       False   \n",
       "6       False     False               False        False       False   \n",
       "7       False     False               False        False       False   \n",
       "8       False     False               False        False       False   \n",
       "9       False     False               False        False       False   \n",
       "10      False     False               False        False       False   \n",
       "11      False     False               False        False       False   \n",
       "12      False     False               False        False       False   \n",
       "13      False     False               False        False       False   \n",
       "14      False     False               False        False       False   \n",
       "15      False     False               False        False       False   \n",
       "16      False     False               False        False       False   \n",
       "17      False     False               False        False       False   \n",
       "18      False     False               False        False       False   \n",
       "19      False     False               False        False       False   \n",
       "20      False     False               False        False       False   \n",
       "21      False     False               False        False       False   \n",
       "22      False     False               False        False       False   \n",
       "23      False     False               False        False       False   \n",
       "24      False     False               False        False       False   \n",
       "25      False     False               False        False       False   \n",
       "26      False     False               False        False       False   \n",
       "27      False     False               False        False       False   \n",
       "\n",
       "    median_income  median_house_value  ocean_proximity  \n",
       "0           False               False            False  \n",
       "1           False               False            False  \n",
       "2           False               False            False  \n",
       "3           False               False            False  \n",
       "4           False               False            False  \n",
       "5           False               False            False  \n",
       "6           False               False            False  \n",
       "7           False               False            False  \n",
       "8           False               False            False  \n",
       "9           False               False            False  \n",
       "10          False               False            False  \n",
       "11          False               False             True  \n",
       "12          False               False            False  \n",
       "13          False               False            False  \n",
       "14          False               False            False  \n",
       "15          False               False            False  \n",
       "16          False               False            False  \n",
       "17          False               False            False  \n",
       "18          False               False            False  \n",
       "19          False               False            False  \n",
       "20           True               False            False  \n",
       "21          False               False            False  \n",
       "22          False               False            False  \n",
       "23          False               False            False  \n",
       "24          False               False            False  \n",
       "25          False               False            False  \n",
       "26          False               False            False  \n",
       "27          False               False            False  "
      ]
     },
     "execution_count": 3,
     "metadata": {},
     "output_type": "execute_result"
    }
   ],
   "source": [
    "# Look for missing values\n",
    "MyDataFrame.isnull()"
   ]
  },
  {
   "cell_type": "markdown",
   "id": "d40f42f4",
   "metadata": {},
   "source": [
    "#### Since we do not know the actual missing value, we take the closest value or an average of the column to replace the null values. "
   ]
  },
  {
   "cell_type": "code",
   "execution_count": 4,
   "id": "f91eee1c",
   "metadata": {},
   "outputs": [
    {
     "name": "stdout",
     "output_type": "stream",
     "text": [
      "    longitude  latitude  housing_median_age  total_rooms  population  median_income  median_house_value ocean_proximity\n",
      "0     -122.23     37.88             41.0000          880         322       8.325200              452600        NEAR BAY\n",
      "1     -122.23     37.88             41.0000          880         322       8.325200              452600        NEAR BAY\n",
      "2     -122.22     37.86             21.0000         7099        2401       8.301400              358500        NEAR BAY\n",
      "3     -122.25     37.84             52.0001         3104        1157       3.120000              241400        NEAR BAY\n",
      "4     -122.26     37.85             52.0000         3503        1504       3.270500              241800        NEAR BAY\n",
      "5     -121.65     39.32             40.0000          812         374       2.789100               73500          INLAND\n",
      "6     -121.69     39.36             29.0000         2220        1170       2.322400               56200          INLAND\n",
      "7     -121.70     39.37             32.0000         1852         911       1.788500               57000          INLAND\n",
      "8     -121.70     39.36             46.0000         1210         523       1.910000               63900          INLAND\n",
      "9     -121.70     39.36             37.0000         2330        1505       2.047400               56000          INLAND\n",
      "10    -121.69     39.36             34.0000          842         635       1.835500               63000          INLAND\n",
      "11    -121.74     39.38             27.0000         2596        1100       2.324300               85500          INLAND\n",
      "12    -121.80     39.33             30.0000         1019         501       2.525900               81300          INLAND\n",
      "13    -120.46     38.15             16.0000         4221        1516       2.381600              116000          INLAND\n",
      "14    -120.55     38.12             10.0000         1566         785       2.500000              116100          INLAND\n",
      "15    -120.56     38.09             34.0000         2745        1150       2.365400               94900          INLAND\n",
      "16    -124.23     41.75             11.0000         3159        1343       2.480500               73200      NEAR OCEAN\n",
      "17    -124.21     41.77             17.0000         3461        1947       2.579500               68400          NEAR O\n",
      "18    -124.19     41.78             15.0000         3140        1645       1.665400               74600          NEAR O\n",
      "19    -124.16     41.74             15.0000         2715        1532       2.182900               69500      NEAR OCEAN\n",
      "20    -124.14     41.95             21.0000         2696        1208       3.092615              122400      NEAR OCEAN\n",
      "21    -124.16     41.92             19.0000         1668         841       2.133600               75000      NEAR OCEAN\n",
      "22    -118.32     33.35             27.0000         1675         744       2.157900              450000          ISLAND\n",
      "23    -118.33     33.34             52.0000         2359        1100       2.833300              414700          ISLAND\n",
      "24    -118.32     33.33             52.0000         2127         733       3.390600              300000          ISLAND\n",
      "25    -118.32     33.34             52.0000          996         341       2.736100              450000          ISLAND\n",
      "26    -118.48     33.43             29.0000          716         422       2.604200              287500          ISLAND\n",
      "27    -118.48     33.43             29.0000          716         422       2.604200              287500          ISLAND\n"
     ]
    }
   ],
   "source": [
    "# Replace the missing values\n",
    "MyDataFrame.at[11, 'ocean_proximity'] = 'INLAND' # Closest ocean_proximity to the given longitude & latitude\n",
    "MyDataFrame.at[20, 'median_income'] = MyDataFrame.median_income.mean() # Average of median_income\n",
    "# Print the entire data frame on the screen\n",
    "print(MyDataFrame.to_string())"
   ]
  },
  {
   "cell_type": "markdown",
   "id": "5c2b72b1",
   "metadata": {},
   "source": [
    "#### Unnecessary duplicates affect the integrity of data. Hence the redundant data must be removed. To find the duplicates, we use the duplicated() function. If it returns true for a row, it means that row is duplicated."
   ]
  },
  {
   "cell_type": "code",
   "execution_count": 5,
   "id": "faf3a4ae",
   "metadata": {},
   "outputs": [
    {
     "name": "stdout",
     "output_type": "stream",
     "text": [
      "0     False\n",
      "1      True\n",
      "2     False\n",
      "3     False\n",
      "4     False\n",
      "5     False\n",
      "6     False\n",
      "7     False\n",
      "8     False\n",
      "9     False\n",
      "10    False\n",
      "11    False\n",
      "12    False\n",
      "13    False\n",
      "14    False\n",
      "15    False\n",
      "16    False\n",
      "17    False\n",
      "18    False\n",
      "19    False\n",
      "20    False\n",
      "21    False\n",
      "22    False\n",
      "23    False\n",
      "24    False\n",
      "25    False\n",
      "26    False\n",
      "27     True\n",
      "dtype: bool\n"
     ]
    }
   ],
   "source": [
    "# Show which rows are duplicated\n",
    "print(MyDataFrame.duplicated())"
   ]
  },
  {
   "cell_type": "code",
   "execution_count": 6,
   "id": "e2196205",
   "metadata": {},
   "outputs": [
    {
     "name": "stdout",
     "output_type": "stream",
     "text": [
      "    longitude  latitude  housing_median_age  total_rooms  population  median_income  median_house_value ocean_proximity\n",
      "0     -122.23     37.88             41.0000          880         322       8.325200              452600        NEAR BAY\n",
      "1     -122.22     37.86             21.0000         7099        2401       8.301400              358500        NEAR BAY\n",
      "2     -122.25     37.84             52.0001         3104        1157       3.120000              241400        NEAR BAY\n",
      "3     -122.26     37.85             52.0000         3503        1504       3.270500              241800        NEAR BAY\n",
      "4     -121.65     39.32             40.0000          812         374       2.789100               73500          INLAND\n",
      "5     -121.69     39.36             29.0000         2220        1170       2.322400               56200          INLAND\n",
      "6     -121.70     39.37             32.0000         1852         911       1.788500               57000          INLAND\n",
      "7     -121.70     39.36             46.0000         1210         523       1.910000               63900          INLAND\n",
      "8     -121.70     39.36             37.0000         2330        1505       2.047400               56000          INLAND\n",
      "9     -121.69     39.36             34.0000          842         635       1.835500               63000          INLAND\n",
      "10    -121.74     39.38             27.0000         2596        1100       2.324300               85500          INLAND\n",
      "11    -121.80     39.33             30.0000         1019         501       2.525900               81300          INLAND\n",
      "12    -120.46     38.15             16.0000         4221        1516       2.381600              116000          INLAND\n",
      "13    -120.55     38.12             10.0000         1566         785       2.500000              116100          INLAND\n",
      "14    -120.56     38.09             34.0000         2745        1150       2.365400               94900          INLAND\n",
      "15    -124.23     41.75             11.0000         3159        1343       2.480500               73200      NEAR OCEAN\n",
      "16    -124.21     41.77             17.0000         3461        1947       2.579500               68400          NEAR O\n",
      "17    -124.19     41.78             15.0000         3140        1645       1.665400               74600          NEAR O\n",
      "18    -124.16     41.74             15.0000         2715        1532       2.182900               69500      NEAR OCEAN\n",
      "19    -124.14     41.95             21.0000         2696        1208       3.092615              122400      NEAR OCEAN\n",
      "20    -124.16     41.92             19.0000         1668         841       2.133600               75000      NEAR OCEAN\n",
      "21    -118.32     33.35             27.0000         1675         744       2.157900              450000          ISLAND\n",
      "22    -118.33     33.34             52.0000         2359        1100       2.833300              414700          ISLAND\n",
      "23    -118.32     33.33             52.0000         2127         733       3.390600              300000          ISLAND\n",
      "24    -118.32     33.34             52.0000          996         341       2.736100              450000          ISLAND\n",
      "25    -118.48     33.43             29.0000          716         422       2.604200              287500          ISLAND\n"
     ]
    }
   ],
   "source": [
    "# Remove duplicated row\n",
    "MyDataFrame=MyDataFrame.drop_duplicates()\n",
    "# Reset the indices with the 'in-place' option\n",
    "MyDataFrame.reset_index(drop=True, inplace=True)\n",
    "# Print data frame\n",
    "print(MyDataFrame.to_string())"
   ]
  },
  {
   "cell_type": "markdown",
   "id": "30be1aff",
   "metadata": {},
   "source": [
    "#### Wrong datatypes may result in inappropriate values in a dataset. Here, the age is in float. We do not calculate age in decimal points. Hence it can be changed to int. "
   ]
  },
  {
   "cell_type": "code",
   "execution_count": 7,
   "id": "c1dbfb94",
   "metadata": {},
   "outputs": [
    {
     "name": "stdout",
     "output_type": "stream",
     "text": [
      "    longitude  latitude  housing_median_age  total_rooms  population  median_income  median_house_value ocean_proximity\n",
      "0     -122.23     37.88                41.0          880         322       8.325200              452600        NEAR BAY\n",
      "1     -122.22     37.86                21.0         7099        2401       8.301400              358500        NEAR BAY\n",
      "2     -122.25     37.84                52.0         3104        1157       3.120000              241400        NEAR BAY\n",
      "3     -122.26     37.85                52.0         3503        1504       3.270500              241800        NEAR BAY\n",
      "4     -121.65     39.32                40.0          812         374       2.789100               73500          INLAND\n",
      "5     -121.69     39.36                29.0         2220        1170       2.322400               56200          INLAND\n",
      "6     -121.70     39.37                32.0         1852         911       1.788500               57000          INLAND\n",
      "7     -121.70     39.36                46.0         1210         523       1.910000               63900          INLAND\n",
      "8     -121.70     39.36                37.0         2330        1505       2.047400               56000          INLAND\n",
      "9     -121.69     39.36                34.0          842         635       1.835500               63000          INLAND\n",
      "10    -121.74     39.38                27.0         2596        1100       2.324300               85500          INLAND\n",
      "11    -121.80     39.33                30.0         1019         501       2.525900               81300          INLAND\n",
      "12    -120.46     38.15                16.0         4221        1516       2.381600              116000          INLAND\n",
      "13    -120.55     38.12                10.0         1566         785       2.500000              116100          INLAND\n",
      "14    -120.56     38.09                34.0         2745        1150       2.365400               94900          INLAND\n",
      "15    -124.23     41.75                11.0         3159        1343       2.480500               73200      NEAR OCEAN\n",
      "16    -124.21     41.77                17.0         3461        1947       2.579500               68400          NEAR O\n",
      "17    -124.19     41.78                15.0         3140        1645       1.665400               74600          NEAR O\n",
      "18    -124.16     41.74                15.0         2715        1532       2.182900               69500      NEAR OCEAN\n",
      "19    -124.14     41.95                21.0         2696        1208       3.092615              122400      NEAR OCEAN\n",
      "20    -124.16     41.92                19.0         1668         841       2.133600               75000      NEAR OCEAN\n",
      "21    -118.32     33.35                27.0         1675         744       2.157900              450000          ISLAND\n",
      "22    -118.33     33.34                52.0         2359        1100       2.833300              414700          ISLAND\n",
      "23    -118.32     33.33                52.0         2127         733       3.390600              300000          ISLAND\n",
      "24    -118.32     33.34                52.0          996         341       2.736100              450000          ISLAND\n",
      "25    -118.48     33.43                29.0          716         422       2.604200              287500          ISLAND\n"
     ]
    }
   ],
   "source": [
    "# Changing the data type from floating point to integer for housing_median_age\n",
    "MyDataFrame.at[2, 'housing_median_age'] = int(MyDataFrame.at[2, 'housing_median_age'])\n",
    "# Display the updated data frame\n",
    "print(MyDataFrame.to_string())"
   ]
  },
  {
   "cell_type": "markdown",
   "id": "a1b3607f",
   "metadata": {},
   "source": [
    "#### Wrong values are often easy to detect as they do not make sense amidst a group of data. These wrong values must be corrected for the overall quality of the dataset. In the column ocean_proximity, we have two values \"NEAR O\". With close proximity data having \"NEAR OCEAN\" as the value, these values are obviously incomplete, and hence wrong. These must be changed to the expected values. "
   ]
  },
  {
   "cell_type": "code",
   "execution_count": 8,
   "id": "79925022",
   "metadata": {},
   "outputs": [
    {
     "name": "stdout",
     "output_type": "stream",
     "text": [
      "    longitude  latitude  housing_median_age  total_rooms  population  median_income  median_house_value ocean_proximity\n",
      "0     -122.23     37.88                41.0          880         322       8.325200              452600        NEAR BAY\n",
      "1     -122.22     37.86                21.0         7099        2401       8.301400              358500        NEAR BAY\n",
      "2     -122.25     37.84                52.0         3104        1157       3.120000              241400        NEAR BAY\n",
      "3     -122.26     37.85                52.0         3503        1504       3.270500              241800        NEAR BAY\n",
      "4     -121.65     39.32                40.0          812         374       2.789100               73500          INLAND\n",
      "5     -121.69     39.36                29.0         2220        1170       2.322400               56200          INLAND\n",
      "6     -121.70     39.37                32.0         1852         911       1.788500               57000          INLAND\n",
      "7     -121.70     39.36                46.0         1210         523       1.910000               63900          INLAND\n",
      "8     -121.70     39.36                37.0         2330        1505       2.047400               56000          INLAND\n",
      "9     -121.69     39.36                34.0          842         635       1.835500               63000          INLAND\n",
      "10    -121.74     39.38                27.0         2596        1100       2.324300               85500          INLAND\n",
      "11    -121.80     39.33                30.0         1019         501       2.525900               81300          INLAND\n",
      "12    -120.46     38.15                16.0         4221        1516       2.381600              116000          INLAND\n",
      "13    -120.55     38.12                10.0         1566         785       2.500000              116100          INLAND\n",
      "14    -120.56     38.09                34.0         2745        1150       2.365400               94900          INLAND\n",
      "15    -124.23     41.75                11.0         3159        1343       2.480500               73200      NEAR OCEAN\n",
      "16    -124.21     41.77                17.0         3461        1947       2.579500               68400      NEAR OCEAN\n",
      "17    -124.19     41.78                15.0         3140        1645       1.665400               74600      NEAR OCEAN\n",
      "18    -124.16     41.74                15.0         2715        1532       2.182900               69500      NEAR OCEAN\n",
      "19    -124.14     41.95                21.0         2696        1208       3.092615              122400      NEAR OCEAN\n",
      "20    -124.16     41.92                19.0         1668         841       2.133600               75000      NEAR OCEAN\n",
      "21    -118.32     33.35                27.0         1675         744       2.157900              450000          ISLAND\n",
      "22    -118.33     33.34                52.0         2359        1100       2.833300              414700          ISLAND\n",
      "23    -118.32     33.33                52.0         2127         733       3.390600              300000          ISLAND\n",
      "24    -118.32     33.34                52.0          996         341       2.736100              450000          ISLAND\n",
      "25    -118.48     33.43                29.0          716         422       2.604200              287500          ISLAND\n"
     ]
    }
   ],
   "source": [
    "# Changing the value at ocean_proximity with index 16 & 17\n",
    "MyDataFrame.at[16, 'ocean_proximity'] = 'NEAR OCEAN'\n",
    "MyDataFrame.at[17, 'ocean_proximity'] = 'NEAR OCEAN'\n",
    "# Display the updated data frame\n",
    "print(MyDataFrame.to_string())"
   ]
  },
  {
   "cell_type": "code",
   "execution_count": 9,
   "id": "d851e3d1",
   "metadata": {},
   "outputs": [],
   "source": [
    "MyDataFrame.to_csv('UpdatedDataset.csv', sep='\\t', encoding='utf-8')"
   ]
  },
  {
   "cell_type": "code",
   "execution_count": 10,
   "id": "e4b8de27",
   "metadata": {},
   "outputs": [
    {
     "name": "stdout",
     "output_type": "stream",
     "text": [
      "Mean =  174730.76923076922\n",
      "Median =  90200.0\n",
      "Range =  452598.3346\n"
     ]
    }
   ],
   "source": [
    "print('Mean = ',MyDataFrame.median_house_value.mean())\n",
    "print('Median = ',MyDataFrame.median_house_value.median())\n",
    "print('Range = ',MyDataFrame.median_house_value.max()-MyDataFrame.median_income.min())"
   ]
  },
  {
   "cell_type": "code",
   "execution_count": 11,
   "id": "69327d28",
   "metadata": {},
   "outputs": [
    {
     "name": "stdout",
     "output_type": "stream",
     "text": [
      "    longitude  latitude  housing_median_age  total_rooms  population  \\\n",
      "0     -122.23     37.88                41.0          880         322   \n",
      "1     -122.22     37.86                21.0         7099        2401   \n",
      "2     -122.25     37.84                52.0         3104        1157   \n",
      "3     -122.26     37.85                52.0         3503        1504   \n",
      "4     -121.65     39.32                40.0          812         374   \n",
      "5     -121.69     39.36                29.0         2220        1170   \n",
      "6     -121.70     39.37                32.0         1852         911   \n",
      "7     -121.70     39.36                46.0         1210         523   \n",
      "8     -121.70     39.36                37.0         2330        1505   \n",
      "9     -121.69     39.36                34.0          842         635   \n",
      "10    -121.74     39.38                27.0         2596        1100   \n",
      "11    -121.80     39.33                30.0         1019         501   \n",
      "12    -120.46     38.15                16.0         4221        1516   \n",
      "13    -120.55     38.12                10.0         1566         785   \n",
      "14    -120.56     38.09                34.0         2745        1150   \n",
      "15    -124.23     41.75                11.0         3159        1343   \n",
      "16    -124.21     41.77                17.0         3461        1947   \n",
      "17    -124.19     41.78                15.0         3140        1645   \n",
      "18    -124.16     41.74                15.0         2715        1532   \n",
      "19    -124.14     41.95                21.0         2696        1208   \n",
      "20    -124.16     41.92                19.0         1668         841   \n",
      "21    -118.32     33.35                27.0         1675         744   \n",
      "22    -118.33     33.34                52.0         2359        1100   \n",
      "23    -118.32     33.33                52.0         2127         733   \n",
      "24    -118.32     33.34                52.0          996         341   \n",
      "25    -118.48     33.43                29.0          716         422   \n",
      "\n",
      "   median_income  median_house_value ocean_proximity  \n",
      "0    $832,520.00              452600        NEAR BAY  \n",
      "1    $830,140.00              358500        NEAR BAY  \n",
      "2    $312,000.00              241400        NEAR BAY  \n",
      "3    $327,050.00              241800        NEAR BAY  \n",
      "4    $278,910.00               73500          INLAND  \n",
      "5    $232,240.00               56200          INLAND  \n",
      "6    $178,850.00               57000          INLAND  \n",
      "7    $191,000.00               63900          INLAND  \n",
      "8    $204,740.00               56000          INLAND  \n",
      "9    $183,550.00               63000          INLAND  \n",
      "10   $232,430.00               85500          INLAND  \n",
      "11   $252,590.00               81300          INLAND  \n",
      "12   $238,160.00              116000          INLAND  \n",
      "13   $250,000.00              116100          INLAND  \n",
      "14   $236,540.00               94900          INLAND  \n",
      "15   $248,050.00               73200      NEAR OCEAN  \n",
      "16   $257,950.00               68400      NEAR OCEAN  \n",
      "17   $166,540.00               74600      NEAR OCEAN  \n",
      "18   $218,290.00               69500      NEAR OCEAN  \n",
      "19   $309,261.48              122400      NEAR OCEAN  \n",
      "20   $213,360.00               75000      NEAR OCEAN  \n",
      "21   $215,790.00              450000          ISLAND  \n",
      "22   $283,330.00              414700          ISLAND  \n",
      "23   $339,060.00              300000          ISLAND  \n",
      "24   $273,610.00              450000          ISLAND  \n",
      "25   $260,420.00              287500          ISLAND  \n"
     ]
    }
   ],
   "source": [
    "#Converting 'median_income' to USD\n",
    "MyDataFrame['median_income'] = MyDataFrame['median_income'].apply(lambda x: f\"${x*100000:,.2f}\")\n",
    "#visualise the entire updated data frame\n",
    "print(MyDataFrame)"
   ]
  },
  {
   "cell_type": "markdown",
   "id": "3c8d6d54",
   "metadata": {},
   "source": [
    "## Week 4. Statistics with Python\n",
    "\n",
    "### Q1. Initialise a two-dimensional array consisting of 5 rows and 10 columns of uniformly distributed data points of integer values from the interval [0..9]. Consider each row of the two-dimensional array as an independent dataset. Display the values on the screen as a table. Plot the first two rows on a single diagram with different colours.\n",
    "\n",
    "##### Python code as follows"
   ]
  },
  {
   "cell_type": "code",
   "execution_count": 12,
   "id": "fe90cf83",
   "metadata": {},
   "outputs": [],
   "source": [
    "#import libraries\n",
    "import numpy as np\n",
    "import matplotlib.pyplot as plt"
   ]
  },
  {
   "cell_type": "code",
   "execution_count": 38,
   "id": "e585400a",
   "metadata": {},
   "outputs": [
    {
     "name": "stdout",
     "output_type": "stream",
     "text": [
      "[[8 5 6 4 4 0 2 7 5 1]\n",
      " [0 5 5 7 6 7 0 7 4 7]\n",
      " [0 4 3 2 8 4 1 3 4 1]\n",
      " [4 2 7 7 5 5 0 2 7 6]\n",
      " [3 5 3 0 0 3 1 3 4 6]]\n"
     ]
    }
   ],
   "source": [
    "# Initialize 2 dimensional array consisting 5 rows & 10 columns\n",
    "MyDataset = np.empty(shape=(5,10),dtype='int')\n",
    "# Map array to uniformly distributed int values from the interval [0..9]\n",
    "for i in range(0,5):\n",
    "    for j in range(0,10):\n",
    "        MyDataset[i,j] = int(np.random.randint(0,9))\n",
    "# Print values as a table\n",
    "print(MyDataset)"
   ]
  },
  {
   "cell_type": "code",
   "execution_count": 39,
   "id": "332496aa",
   "metadata": {},
   "outputs": [
    {
     "data": {
      "image/png": "[encoded data removed]",
      "text/plain": [
       "<Figure size 432x288 with 1 Axes>"
      ]
     },
     "metadata": {
      "needs_background": "light"
     },
     "output_type": "display_data"
    }
   ],
   "source": [
    "# Plot the 2 rows as a single diagram in different colors \n",
    "plt.plot(MyDataset[0, ], color = 'g')\n",
    "plt.plot(MyDataset[1, ], color = 'r')\n",
    "# Visualise the plot\n",
    "plt.show()"
   ]
  },
  {
   "cell_type": "markdown",
   "id": "4b8633dd",
   "metadata": {},
   "source": [
    "### Q2. Provide mean, median and standard deviation for each individual row.\n",
    "\n",
    "##### Python code as follows"
   ]
  },
  {
   "cell_type": "code",
   "execution_count": 40,
   "id": "ad84a94e",
   "metadata": {},
   "outputs": [
    {
     "name": "stdout",
     "output_type": "stream",
     "text": [
      "Mean by row =  [4.2 4.8 3.  4.5 2.8]\n",
      "Median by row =  [4.5 5.5 3.  5.  3. ]\n",
      "Standard Deviation by row =  [2.44131112 2.6        2.14476106 2.33452351 1.88679623]\n"
     ]
    }
   ],
   "source": [
    "# Find Mean, Median and Standard Deviation by row\n",
    "MeanByRow = np.mean(MyDataset, axis=1)\n",
    "MedianByRow = np.median(MyDataset, axis=1)\n",
    "SDbyRow = np.std(MyDataset, axis=1)\n",
    "# Print Mean, Median and Standard Deviation by row\n",
    "print('Mean by row = ',MeanByRow)\n",
    "print('Median by row = ',MedianByRow)\n",
    "print('Standard Deviation by row = ', SDbyRow)"
   ]
  },
  {
   "cell_type": "markdown",
   "id": "09a45439",
   "metadata": {},
   "source": [
    "### Q3. Initialise a one-dimensional array representing a normal distribution of 1000 data points with mean value 17 and standard deviation 0.2.\n",
    "\n",
    "##### Python code as follows"
   ]
  },
  {
   "cell_type": "code",
   "execution_count": 16,
   "id": "c35267e8",
   "metadata": {},
   "outputs": [],
   "source": [
    "# Initialize parameters for array\n",
    "mean = float(17)\n",
    "SD = float(0.2)\n",
    "size = int(1000)\n",
    "# Initialize an array representing a normal distribution of 1000 data points, mean = 17 and standard deviation = 0.2\n",
    "N = np.random.normal(mean,SD,size)"
   ]
  },
  {
   "cell_type": "markdown",
   "id": "767e0fb9",
   "metadata": {},
   "source": [
    "### Q4. Find the maximum and the minimum values of the dataset and calculate the range.\n",
    "\n",
    "##### Python code as follows"
   ]
  },
  {
   "cell_type": "code",
   "execution_count": 17,
   "id": "be6b8601",
   "metadata": {},
   "outputs": [
    {
     "name": "stdout",
     "output_type": "stream",
     "text": [
      "Maximum value of the dataset =  17.594733969987615\n",
      "Minimum value of the dataset =  16.39008860610899\n",
      "Range of the dataset =  1.204645363878626\n"
     ]
    }
   ],
   "source": [
    "# Find maximum value of the dataset\n",
    "max1 = N.max()\n",
    "print('Maximum value of the dataset = ',max1)\n",
    "# Find minimum value of the dataset\n",
    "min1 = N.min()\n",
    "print('Minimum value of the dataset = ',min1)\n",
    "# Calculate the Range\n",
    "range_1 = max1-min1\n",
    "print('Range of the dataset = ',range_1)"
   ]
  },
  {
   "cell_type": "markdown",
   "id": "8f158e09",
   "metadata": {},
   "source": [
    "### Q5. Visualise the dataset by using a histogram with 10 bins. Visualise the probability density function.\n",
    "\n",
    "##### Python code as follows"
   ]
  },
  {
   "cell_type": "code",
   "execution_count": 18,
   "id": "9e42f850",
   "metadata": {},
   "outputs": [
    {
     "data": {
      "image/png": "[encoded data removed]",
      "text/plain": [
       "<Figure size 432x288 with 1 Axes>"
      ]
     },
     "metadata": {
      "needs_background": "light"
     },
     "output_type": "display_data"
    }
   ],
   "source": [
    "# Visualise the dataset by using a histogram with 10 bins\n",
    "plt.hist(N, bins=10)\n",
    "plt.show()"
   ]
  },
  {
   "cell_type": "code",
   "execution_count": 19,
   "id": "8866d58c",
   "metadata": {},
   "outputs": [
    {
     "data": {
      "image/png": "[encoded data removed]",
      "text/plain": [
       "<Figure size 432x288 with 1 Axes>"
      ]
     },
     "metadata": {
      "needs_background": "light"
     },
     "output_type": "display_data"
    }
   ],
   "source": [
    "# Visualise the probability density function\n",
    "f = (1/(SD*np.sqrt(2*np.pi)))*np.exp(-((N-mean)**2/(2*SD**2)))\n",
    "plt.plot(N,f)\n",
    "plt.show()"
   ]
  },
  {
   "cell_type": "markdown",
   "id": "7b070740",
   "metadata": {},
   "source": [
    "## Week 5. Algebra in Practise\n",
    "\n",
    "### Q1. Initialize the following matrix A. Find the determinant, the trace and the inverse of matrix A.\n",
    "\n",
    "##### Python code as follows"
   ]
  },
  {
   "cell_type": "code",
   "execution_count": 20,
   "id": "aa120449",
   "metadata": {},
   "outputs": [],
   "source": [
    "#import libraries\n",
    "import numpy as np"
   ]
  },
  {
   "cell_type": "code",
   "execution_count": 21,
   "id": "e26e4c51",
   "metadata": {},
   "outputs": [
    {
     "name": "stdout",
     "output_type": "stream",
     "text": [
      "A = [[2 5 1]\n",
      " [4 3 7]\n",
      " [1 3 2]]\n"
     ]
    }
   ],
   "source": [
    "# Initialize Matrix A\n",
    "\n",
    "A = np.array([[2,5,1],[4,3,7],[1,3,2]])\n",
    "print('A =',A)"
   ]
  },
  {
   "cell_type": "code",
   "execution_count": 22,
   "id": "788f5702",
   "metadata": {},
   "outputs": [
    {
     "name": "stdout",
     "output_type": "stream",
     "text": [
      "The Determinant of Matrix A =  -26\n",
      "The trace of Matrix A =  7\n",
      "The Inverse of Matrix A =  [[ 0.57692308  0.26923077 -1.23076923]\n",
      " [ 0.03846154 -0.11538462  0.38461538]\n",
      " [-0.34615385  0.03846154  0.53846154]]\n"
     ]
    }
   ],
   "source": [
    "# Find the determinant of Marix A\n",
    "D = np.linalg.det(A)\n",
    "print('The Determinant of Matrix A = ',int(D))\n",
    "\n",
    "# Find the Trace of Matrix A\n",
    "T = np.trace(A)\n",
    "print('The trace of Matrix A = ',T)\n",
    "\n",
    "# Find the inverse of matrix A\n",
    "I = np.linalg.inv(A)\n",
    "print('The Inverse of Matrix A = ',I)"
   ]
  },
  {
   "cell_type": "markdown",
   "id": "ed8045e6",
   "metadata": {},
   "source": [
    "### Q2. Initialise the square matrices B and C. Find the product P of the matrices B and C by using the Python function for matrix multiplication. Display the result on the screen.\n",
    "\n",
    "##### Pyhton code as follows"
   ]
  },
  {
   "cell_type": "code",
   "execution_count": 23,
   "id": "ec802672",
   "metadata": {},
   "outputs": [
    {
     "name": "stdout",
     "output_type": "stream",
     "text": [
      "P = [[65 41 94]\n",
      " [33 18 48]\n",
      " [52 29 89]]\n"
     ]
    }
   ],
   "source": [
    "# initialize square matrices B & C\n",
    "B = np.array([[4,7,2],[3,2,5],[6,4,3]])\n",
    "C = np.array([[3,1,9],[7,5,8],[2,1,1]])\n",
    "\n",
    "# Find product P of matrices B & C\n",
    "P = np.matmul(B,C)\n",
    "\n",
    "# Display the result\n",
    "print('P =', P)"
   ]
  },
  {
   "cell_type": "markdown",
   "id": "131ab46c",
   "metadata": {},
   "source": [
    "### Q3. Consider the following linear equations:\n",
    "### 3x + 2y - z = 25\n",
    "### 2x - y + 4z = 19\n",
    "### 4x - 2y +3z = 18\n",
    "### Represent the system of linear equations using matrices\n",
    "\n",
    "##### Python code as follows"
   ]
  },
  {
   "cell_type": "code",
   "execution_count": 24,
   "id": "268d541c",
   "metadata": {},
   "outputs": [
    {
     "name": "stdout",
     "output_type": "stream",
     "text": [
      "M = [[ 3  2 -1]\n",
      " [ 2 -1  4]\n",
      " [ 4 -2  3]]\n",
      "X= ['x' 'y' 'z']\n",
      "C= [[1]\n",
      " [4]\n",
      " [7]]\n"
     ]
    }
   ],
   "source": [
    "# Representing a system of linear equation using matrices\n",
    "M = np.array([[3,2,-1],[2,-1,4],[4,-2,3]])\n",
    "X = np.array(['x','y','z'])\n",
    "C = np.array([[1],[4],[7]])\n",
    "\n",
    "# Display matrices\n",
    "print('M =',M)\n",
    "print('X=',X)\n",
    "print('C=',C)"
   ]
  },
  {
   "cell_type": "markdown",
   "id": "df6b7d48",
   "metadata": {},
   "source": [
    "### Q4. Provide the algebraic steps for solving the system of linear equations from Task 3 by using matrix notation."
   ]
  },
  {
   "cell_type": "raw",
   "id": "cf147d1d",
   "metadata": {},
   "source": [
    "# Algebraic steps for solving the system of linear equations from Task 3 by using matrix notatio\n",
    "\n",
    "A system of linear equations can be expressed as a matrix notation. \n",
    "\n",
    "MX = C; \n",
    "Where, (For Example:)\n",
    "[1 2 3]           [x]          [1]\n",
    "[4 5 6] = M,      [y] = X      [2] = C\n",
    "[7 8 9]           [z]          [3]\n",
    " \n",
    "M1.MX = M1.C Where, M1 is M inverse.\n",
    "IX = M1.C\n",
    "X = M1.C\n",
    "\n",
    "Matrix X will provide the solution. The matrix will have 3 rows and 1 column. The elements of the matrix will correspond to the values x, y and z, which solve the system of linear equations in question."
   ]
  },
  {
   "cell_type": "markdown",
   "id": "0cf30f10",
   "metadata": {},
   "source": [
    "### Q5. Solve the system of linear equations from Task 3 by using Python script utilising matrix multiplication and inverse matrix.\n",
    "\n",
    "##### Python code as follows"
   ]
  },
  {
   "cell_type": "code",
   "execution_count": 25,
   "id": "ee4f72e4",
   "metadata": {},
   "outputs": [
    {
     "name": "stdout",
     "output_type": "stream",
     "text": [
      "X =  [[ 1.08571429]\n",
      " [-1.02857143]\n",
      " [ 0.2       ]]\n"
     ]
    }
   ],
   "source": [
    "# Solve the system of linear equations from Task 3 by utilising matrix multiplication and inverse matrix\n",
    "\n",
    "# Initialize Matrix M as a 3x3 Matrix with given equation\n",
    "M = np.array([[3,2,-1],[2,-1,4],[4,-2,3]])\n",
    "# Calculate the inverse of M\n",
    "M1 = np.linalg.inv(M)\n",
    "# Initialize Matrix C\n",
    "C = np.array([[1],[4],[7]])\n",
    "# Calculate X=M1*C\n",
    "X = np.matmul(M1,C)\n",
    "# Display Matrix X\n",
    "print('X = ', X)"
   ]
  },
  {
   "cell_type": "markdown",
   "id": "68852120",
   "metadata": {},
   "source": [
    "## Week 6. Data Visualization with Python\n",
    "\n",
    "### Q1. Develop a graph which represents the public transport network of a city of your choice. Some cities have extensive public transport networks. In such case, represent minimum 3 lines with minimum 4 stations on each line. When visualising the network, use different colours for the different lines and their corresponding stations. Provide attributes to the edges which correspond to the distances between stations and visualise them. If the actual distances between the stations are not available, approximate them by using online map services. Visualise the names of the stations.\n",
    "\n",
    "##### Python code as follows"
   ]
  },
  {
   "cell_type": "markdown",
   "id": "c8d7cb1e",
   "metadata": {},
   "source": [
    "###### Representation of a part of the transport network of the city Chennai, India."
   ]
  },
  {
   "cell_type": "code",
   "execution_count": 53,
   "id": "c7b7d43a",
   "metadata": {},
   "outputs": [],
   "source": [
    "#import libraries\n",
    "\n",
    "import matplotlib.pyplot as plt\n",
    "import networkx as nx\n",
    "import pandas as pd\n",
    "from pandas.plotting import parallel_coordinates"
   ]
  },
  {
   "cell_type": "code",
   "execution_count": 27,
   "id": "0f88a79f",
   "metadata": {},
   "outputs": [],
   "source": [
    "#Create Graph Object\n",
    "\n",
    "MyGraph = nx.Graph()"
   ]
  },
  {
   "cell_type": "code",
   "execution_count": 28,
   "id": "755bd27b",
   "metadata": {},
   "outputs": [],
   "source": [
    "#Add nodes with attributes node position and colour code of the node\n",
    "\n",
    "#Chennai Metro Line (Colour Green)\n",
    "MyGraph.add_node('A',npos=(10,10),ccn='#00FF00')\n",
    "MyGraph.add_node('B',npos=(25,19),ccn='#00FF00')\n",
    "MyGraph.add_node('C',npos=(34,34),ccn='#00FF00')\n",
    "MyGraph.add_node('D',npos=(56,56),ccn='#00FF00')\n",
    "MyGraph.add_node('E',npos=(73,73),ccn='#00FF00')\n",
    "\n",
    "# Chennai EMU Line (Colour Pink)\n",
    "MyGraph.add_node('F',npos=(50,20),ccn='#FF66CC')\n",
    "MyGraph.add_node('G',npos=(69,40),ccn='#FF66CC')\n",
    "MyGraph.add_node('H',npos=(80,60),ccn='#FF66CC')\n",
    "MyGraph.add_node('I',npos=(96,80),ccn='#FF66CC')\n",
    "\n",
    "# Chennai MRTS Line (Colour Orange)\n",
    "MyGraph.add_node('J',npos=(20,-20),ccn='#FF6600')\n",
    "MyGraph.add_node('K',npos=(40,-40),ccn='#FF6600')\n",
    "MyGraph.add_node('L',npos=(60,-60),ccn='#FF6600')\n",
    "MyGraph.add_node('M',npos=(80,-80),ccn='#FF6600')"
   ]
  },
  {
   "cell_type": "code",
   "execution_count": 29,
   "id": "8aad7e59",
   "metadata": {},
   "outputs": [],
   "source": [
    "#Connect the nodes with corresponding colour\n",
    "\n",
    "#Chennai Metro Line (Colour Green)\n",
    "MyGraph.add_edge('A','B',cce='#00FF00',distance='3.5 km')\n",
    "MyGraph.add_edge('B','C',cce='#00FF00',distance='3 km')\n",
    "MyGraph.add_edge('C','D',cce='#00FF00',distance='5.5 km')\n",
    "MyGraph.add_edge('D','E',cce='#00FF00',distance='5 km')\n",
    "\n",
    "#Chennai EMU Line (Colour Pink)\n",
    "MyGraph.add_edge('A','F',cce='#FF66CC',distance='10 km')\n",
    "MyGraph.add_edge('F','G',cce='#FF66CC',distance='6 km')\n",
    "MyGraph.add_edge('G','H',cce='#FF66CC',distance='4 km')\n",
    "MyGraph.add_edge('H','I',cce='#FF66CC',distance='5.2 km')\n",
    "\n",
    "#Chennai MRTS Line (Colour Orange)\n",
    "MyGraph.add_edge('A','J',cce='#FF6600',distance='5 km')\n",
    "MyGraph.add_edge('J','K',cce='#FF6600',distance='5.2 km')\n",
    "MyGraph.add_edge('K','L',cce='#FF6600',distance='5.6 km')\n",
    "MyGraph.add_edge('L','M',cce='#FF6600',distance='5.7 km')"
   ]
  },
  {
   "cell_type": "code",
   "execution_count": 30,
   "id": "f57821fd",
   "metadata": {},
   "outputs": [
    {
     "data": {
      "text/plain": [
       "{('A', 'B'): '3.5 km',\n",
       " ('A', 'F'): '10 km',\n",
       " ('A', 'J'): '5 km',\n",
       " ('B', 'C'): '3 km',\n",
       " ('C', 'D'): '5.5 km',\n",
       " ('D', 'E'): '5 km',\n",
       " ('F', 'G'): '6 km',\n",
       " ('G', 'H'): '4 km',\n",
       " ('H', 'I'): '5.2 km',\n",
       " ('J', 'K'): '5.2 km',\n",
       " ('K', 'L'): '5.6 km',\n",
       " ('L', 'M'): '5.7 km'}"
      ]
     },
     "execution_count": 30,
     "metadata": {},
     "output_type": "execute_result"
    }
   ],
   "source": [
    "nx.get_edge_attributes(MyGraph,'distance')"
   ]
  },
  {
   "cell_type": "code",
   "execution_count": 31,
   "id": "ae7493d8",
   "metadata": {},
   "outputs": [],
   "source": [
    "# Extract attributes from graph to dictionaries\n",
    "\n",
    "pos = nx.get_node_attributes(MyGraph,'npos')\n",
    "nodecolour = nx.get_node_attributes(MyGraph,'ccn')\n",
    "edgecolour = nx.get_edge_attributes(MyGraph,'cce')"
   ]
  },
  {
   "cell_type": "code",
   "execution_count": 32,
   "id": "9af45a24",
   "metadata": {},
   "outputs": [],
   "source": [
    "# Place the values from the dictionaries in lists\n",
    "pos_list = list(pos.values())\n",
    "NodeList = list(nodecolour.values())\n",
    "EdgeList= list(edgecolour.values())"
   ]
  },
  {
   "cell_type": "code",
   "execution_count": 33,
   "id": "5e7b6153",
   "metadata": {},
   "outputs": [],
   "source": [
    "#Assign station names to a variable\n",
    "area_names = ['St. Thomas Mount','Alandur','Eekkaatuthangal','Ashok Nagar','Vadapalani','Guindy','Saidapet','Mambalam','Kodambakkam','Adambakkam','Velachery','Perungudi','Taramani']"
   ]
  },
  {
   "cell_type": "code",
   "execution_count": 34,
   "id": "7e7965d6",
   "metadata": {},
   "outputs": [
    {
     "data": {
      "image/png": "[encoded data removed]",
      "text/plain": [
       "<Figure size 720x720 with 1 Axes>"
      ]
     },
     "metadata": {},
     "output_type": "display_data"
    }
   ],
   "source": [
    "# Display the name of the stations\n",
    "plt.figure(figsize=(10,10))\n",
    "\n",
    "area_names = ['St. Thomas Mount','Alandur','Eekkaatuthangal','Ashok Nagar','Vadapalani','Guindy','Saidapet','Mambalam','Kodambakkam','Adambakkam','Velachery','Perungudi','Taramani']\n",
    "for idx in range(len(area_names)):\n",
    "    plt.text(pos_list[idx][0]+5,pos_list[idx][1],s=area_names[idx])\n",
    "\n",
    "# Draw the graph's nodes and edges\n",
    "\n",
    "nx.draw_networkx(MyGraph, pos, node_color=NodeList)\n",
    "nx.draw_networkx_edges(MyGraph, pos, edge_color=EdgeList)\n",
    "nx.draw_networkx_edge_labels(MyGraph,pos,edge_labels=nx.get_edge_attributes(MyGraph,'distance'))\n",
    "\n",
    "# Visualise the graph\n",
    "plt.show()"
   ]
  },
  {
   "cell_type": "markdown",
   "id": "5cf1d5f8",
   "metadata": {},
   "source": [
    "### Q2. Find the average monthly temperatures of three cities of your choice. Represent the data by using a heat map. Provide a colour scale for guidance. Allow the user to specify a threshold for the heat map. Based on this threshold value, use different base colours when representing the data points.\n",
    "\n",
    "##### Python code as follows"
   ]
  },
  {
   "cell_type": "code",
   "execution_count": 52,
   "id": "4335f2a4",
   "metadata": {},
   "outputs": [
    {
     "name": "stdout",
     "output_type": "stream",
     "text": [
      "          City   1   2   3   4   5   6   7   8   9  10  11  12\n",
      "0      Phoenix   6   8  11  16  21  25  27  26  23  17  10   6\n",
      "1  Little Rock   4   6  12  17  21  25  28  27  23  17  11   6\n",
      "2   Sacramento   9  11  13  15  18  21  23  23  21  17  13   9\n",
      "3       Denver  -2   1   5   9  14  20  23  21  17  10   3  -2\n",
      "4     Hartford  -2   1   4  10  15  21  24  23  19  12   7   1\n",
      "5        Dover   1   2   6  12  17  22  25  24  20  14   8   3\n",
      "6  Tallahassee  15  17  19  22  25  27  27  27  26  23  20  17\n",
      "\n",
      "Enter the threshold: 17\n"
     ]
    },
    {
     "data": {
      "image/png": "[encoded data removed]",
      "text/plain": [
       "<Figure size 1296x360 with 1 Axes>"
      ]
     },
     "metadata": {},
     "output_type": "display_data"
    }
   ],
   "source": [
    "# This subroutine encapsulates the 'plot' method, as the most suitable for raster rendering\n",
    "def DrawBox(x, y, size, r, g, b):\n",
    "    if r < 0:\n",
    "        r = int(0)\n",
    "    if g < 0:\n",
    "        g = int(0)\n",
    "    if b < 0:\n",
    "        b = int(0)\n",
    "    if r > 255:\n",
    "        r = int(255)\n",
    "    if g > 255:\n",
    "        g = int(255)\n",
    "    if b > 255:\n",
    "        b = int(255)\n",
    "    for i in range(0, int(size)):\n",
    "        plt.plot([x, x + size], [y + i, y + i], '#{:02x}{:02x}{:02x}'.format(r, g, b))\n",
    "\n",
    "# Store the dataset into a data frame\n",
    "df = pd.read_csv('HeatMap.csv')\n",
    "#df['mean'] = df.mean(axis=1)\n",
    "# Print the content on the screen\n",
    "print(df.head(7))\n",
    "df = df.drop([0,1,5,6])\n",
    "\n",
    "# Set the plot\n",
    "plt.figure(figsize=(18, 5))\n",
    "plt.axis([0, 600, 0, 400])\n",
    "plt.xticks([])\n",
    "plt.yticks([])\n",
    "plt.axis('off')\n",
    "\n",
    "Min_1 = int(min(df.min(numeric_only=True)))\n",
    "Max_1 = int(max(df.max(numeric_only=True)))\n",
    "\n",
    "BoxSize = int(40)\n",
    "OffsetX = int(15)\n",
    "OffsetY = int(12)\n",
    "\n",
    "\n",
    "# Generate the heat map\n",
    "Threshold1 = int(input(\"\\nEnter the threshold: \"))\n",
    "for i in range(0, df.shape[0]):\n",
    "    for j in range(1, df.shape[1]):\n",
    "        ColourCode = int(((df.values[i, j]-Min_1)/(Max_1-Min_1))*255)\n",
    "        DrawBox(20+BoxSize*j, 300-BoxSize*i, BoxSize, 0, 0, ColourCode )\n",
    "        if df.values[i, j] > Threshold1:\n",
    "            plt.text(OffsetX+20+BoxSize*j, OffsetY+300-BoxSize*i, str(df.values[i, j]), color ='white', fontweight='bold')\n",
    "        if df.values[i, j] <= Threshold1:\n",
    "            plt.text(OffsetX+20+BoxSize*j, OffsetY+300-BoxSize*i, str(df.values[i, j]), color ='white', fontweight='bold')\n",
    "\n",
    "for i in range(0, 256):\n",
    "    plt.plot([560, 580], [i + 60, i + 60], '#{:02x}{:02x}{:02x}'.format(0, 0, ColourCode))\n",
    "\n",
    "plt.text(585, 108, Min_1)\n",
    "plt.text(585, 340, Max_1)\n",
    "\n",
    "\n",
    "\n",
    "plt.text( 72, 190, 'Jan', fontweight='bold', color='#3F3F4E')\n",
    "plt.text(112, 190, 'Feb', fontweight='bold', color='#3F3F4E')\n",
    "plt.text(152, 190, 'Mar', fontweight='bold', color='#3F3F4E')\n",
    "plt.text(192, 190, 'Apr', fontweight='bold', color='#3F3F4E')\n",
    "plt.text(232, 190, 'May', fontweight='bold', color='#3F3F4E')\n",
    "plt.text(272, 190, 'Jun', fontweight='bold', color='#3F3F4E')\n",
    "plt.text(312, 190, 'Jul', fontweight='bold', color='#3F3F4E')\n",
    "plt.text(352, 190, 'Aug', fontweight='bold', color='#3F3F4E')\n",
    "plt.text(392, 190, 'Sep', fontweight='bold', color='#3F3F4E')\n",
    "plt.text(432, 190, 'Oct', fontweight='bold', color='#3F3F4E')\n",
    "plt.text(472, 190, 'Nov', fontweight='bold', color='#3F3F4E')\n",
    "plt.text(512, 190, 'Dec', fontweight='bold', color='#3F3F4E')\n",
    "\n",
    "\n",
    "\n",
    "#display city\n",
    "plt.text(10, 316, str(df.values[0, 0]), fontweight='bold', color='#3F3F4E')\n",
    "plt.text(10, 275, str(df.values[1, 0]), fontweight='bold', color='#3F3F4E')\n",
    "plt.text(10, 235, str(df.values[2, 0]), fontweight='bold', color='#3F3F4E')\n",
    "\n",
    "\n",
    "\n",
    "#set title for the image\n",
    "plt.title('Heat Map: Average Temperature of 3 Cities', fontstyle='italic', fontweight='bold')\n",
    "\n",
    "\n",
    "\n",
    "#display the plotted heat map\n",
    "plt.show()"
   ]
  },
  {
   "cell_type": "markdown",
   "id": "6b7ebeb4",
   "metadata": {},
   "source": [
    "### Q3. Represent the data from Task 2 by using parallel coordinates. Use different colours for each city's average monthly temperatures.\n",
    "\n",
    "##### Python code as follows"
   ]
  },
  {
   "cell_type": "code",
   "execution_count": 54,
   "id": "fac313bc",
   "metadata": {},
   "outputs": [
    {
     "data": {
      "image/png": "[encoded data removed]",
      "text/plain": [
       "<Figure size 432x288 with 1 Axes>"
      ]
     },
     "metadata": {
      "needs_background": "light"
     },
     "output_type": "display_data"
    }
   ],
   "source": [
    "#Fetching data\n",
    "\n",
    "data = pd.read_csv(r'HeatMap.csv',sep=',')\n",
    "\n",
    "#Passing the dataset column in parallel coordinates\n",
    "parallel_coordinates(data, 'City')\n",
    "\n",
    "plt.title(\"Average Monthly Temperature\")\n",
    "\n",
    "#Display the parallel coordinates\n",
    "\n",
    "plt.show()"
   ]
  },
  {
   "cell_type": "code",
   "execution_count": null,
   "id": "fdc7fb5a",
   "metadata": {},
   "outputs": [],
   "source": []
  }
 ],
 "metadata": {
  "kernelspec": {
   "display_name": "Python 3 (ipykernel)",
   "language": "python",
   "name": "python3"
  },
  "language_info": {
   "codemirror_mode": {
    "name": "ipython",
    "version": 3
   },
   "file_extension": ".py",
   "mimetype": "text/x-python",
   "name": "python",
   "nbconvert_exporter": "python",
   "pygments_lexer": "ipython3",
   "version": "3.9.7"
  }
 },
 "nbformat": 4,
 "nbformat_minor": 5
}
